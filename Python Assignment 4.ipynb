{
 "cells": [
  {
   "cell_type": "markdown",
   "metadata": {},
   "source": [
    "1.1 Write a Python Program(with class concepts) to find the area of the triangle using the below formula.\n",
    "area = (s*(s-a)*(s-b)*(s-c)) ** 0.5"
   ]
  },
  {
   "cell_type": "code",
   "execution_count": 4,
   "metadata": {},
   "outputs": [
    {
     "name": "stdout",
     "output_type": "stream",
     "text": [
      "6.0\n"
     ]
    }
   ],
   "source": [
    "class Triangle:\n",
    "    \n",
    "    def __init__(self,s1,s2,s3):\n",
    "        self.s1 = s1\n",
    "        self.s2 = s2\n",
    "        self.s3 = s3\n",
    "        \n",
    "class Area_of_t(Triangle):\n",
    "    \n",
    "    def __init__(self,s1,s2,s3):\n",
    "        Triangle.__init__(self,s1,s2,s3)\n",
    "    \n",
    "    def area(self):\n",
    "        s = (self.s1+self.s2+self.s3)/2\n",
    "        return (s*(s-self.s1)*(s-self.s2)*(s-self.s3)) ** 0.5\n",
    "    \n",
    "answer = Area_of_t(3,4,5)\n",
    "print(answer.area())"
   ]
  },
  {
   "cell_type": "markdown",
   "metadata": {},
   "source": [
    "1.2 Write a function filter_long_words() that takes a list of words and an integer n and returns the list of words that are longer than n."
   ]
  },
  {
   "cell_type": "code",
   "execution_count": 3,
   "metadata": {},
   "outputs": [
    {
     "name": "stdout",
     "output_type": "stream",
     "text": [
      "['python', 'beautiful', 'language']\n"
     ]
    }
   ],
   "source": [
    "def filter_long_words(items,n):\n",
    "        out = []\n",
    "        for i in items:\n",
    "            if len(i)>n:\n",
    "                out.append(i)\n",
    "        return out        \n",
    "\n",
    "print(filter_long_words([\"python\",\"is\",\"a\",\"beautiful\",\"language\"],2))"
   ]
  },
  {
   "cell_type": "markdown",
   "metadata": {},
   "source": [
    "2.1 Write a Python program using function concept that maps list of words into a list of integers representing the lengths of the corresponding words."
   ]
  },
  {
   "cell_type": "code",
   "execution_count": 8,
   "metadata": {
    "scrolled": true
   },
   "outputs": [
    {
     "name": "stdout",
     "output_type": "stream",
     "text": [
      "[6, 2, 1, 9, 8]\n"
     ]
    }
   ],
   "source": [
    "lst = [\"python\",\"is\",\"a\",\"beautiful\",\"language\"]\n",
    "\n",
    "def len_func(i):\n",
    "    return len(i)\n",
    "output = list(map(len_func,lst))\n",
    "print(output)"
   ]
  },
  {
   "cell_type": "markdown",
   "metadata": {},
   "source": [
    "2.2 Write a Python function which takes a character (i.e. a string of length 1) and returns True if it is a vowel, False otherwise."
   ]
  },
  {
   "cell_type": "code",
   "execution_count": 7,
   "metadata": {},
   "outputs": [
    {
     "name": "stdout",
     "output_type": "stream",
     "text": [
      "a is a vowel\n",
      "A is a vowel\n",
      "g is a consonant\n"
     ]
    }
   ],
   "source": [
    "def str_len(s):\n",
    "    if s.lower() in ('a', 'e', 'i', 'o', 'u'):\n",
    "        return(\"{} is a vowel\".format(s))\n",
    "    else:\n",
    "        return(\"{} is a consonant\".format(s))\n",
    "        \n",
    "print(str_len('a'))\n",
    "print(str_len('A'))\n",
    "print(str_len('g'))"
   ]
  }
 ],
 "metadata": {
  "kernelspec": {
   "display_name": "Python 3",
   "language": "python",
   "name": "python3"
  },
  "language_info": {
   "codemirror_mode": {
    "name": "ipython",
    "version": 3
   },
   "file_extension": ".py",
   "mimetype": "text/x-python",
   "name": "python",
   "nbconvert_exporter": "python",
   "pygments_lexer": "ipython3",
   "version": "3.7.3"
  }
 },
 "nbformat": 4,
 "nbformat_minor": 2
}
